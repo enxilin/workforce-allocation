{
  "nbformat": 4,
  "nbformat_minor": 0,
  "metadata": {
    "colab": {
      "name": "workforce3.ipynb",
      "provenance": [],
      "authorship_tag": "ABX9TyMgd69xyIDHiwn8waURCfm+",
      "include_colab_link": true
    },
    "kernelspec": {
      "name": "python3",
      "display_name": "Python 3"
    },
    "language_info": {
      "name": "python"
    }
  },
  "cells": [
    {
      "cell_type": "markdown",
      "metadata": {
        "id": "view-in-github",
        "colab_type": "text"
      },
      "source": [
        "<a href=\"https://colab.research.google.com/github/enxilin/workforce-allocation/blob/main/workforce3.ipynb\" target=\"_parent\"><img src=\"https://colab.research.google.com/assets/colab-badge.svg\" alt=\"Open In Colab\"/></a>"
      ]
    },
    {
      "cell_type": "code",
      "source": [
        "from google.colab import drive\n",
        "drive.mount('/content/drive')"
      ],
      "metadata": {
        "colab": {
          "base_uri": "https://localhost:8080/"
        },
        "id": "CIzcJNoYXj65",
        "outputId": "fee382ec-5e6a-4c12-c9e4-cebbbea8a851"
      },
      "execution_count": null,
      "outputs": [
        {
          "output_type": "stream",
          "name": "stdout",
          "text": [
            "Drive already mounted at /content/drive; to attempt to forcibly remount, call drive.mount(\"/content/drive\", force_remount=True).\n"
          ]
        }
      ]
    },
    {
      "cell_type": "code",
      "source": [
        "pip install docplex"
      ],
      "metadata": {
        "colab": {
          "base_uri": "https://localhost:8080/"
        },
        "id": "wYBx8PmATN3T",
        "outputId": "d7a68653-e21e-440e-8b7f-9657120f24d8"
      },
      "execution_count": null,
      "outputs": [
        {
          "output_type": "stream",
          "name": "stdout",
          "text": [
            "Looking in indexes: https://pypi.org/simple, https://us-python.pkg.dev/colab-wheels/public/simple/\n",
            "Collecting docplex\n",
            "  Downloading docplex-2.23.222.tar.gz (610 kB)\n",
            "\u001b[K     |████████████████████████████████| 610 kB 4.3 MB/s \n",
            "\u001b[?25hRequirement already satisfied: six in /usr/local/lib/python3.7/dist-packages (from docplex) (1.15.0)\n",
            "Building wheels for collected packages: docplex\n",
            "  Building wheel for docplex (setup.py) ... \u001b[?25l\u001b[?25hdone\n",
            "  Created wheel for docplex: filename=docplex-2.23.222-py3-none-any.whl size=662847 sha256=9ad51af6fb402e5db58a1ed12958f9c929237c15a0d0679dc7da4963ca255d44\n",
            "  Stored in directory: /root/.cache/pip/wheels/a7/c9/fb/cee5a89f304e77a39c466e625ac2830434b76eb8384999d116\n",
            "Successfully built docplex\n",
            "Installing collected packages: docplex\n",
            "Successfully installed docplex-2.23.222\n"
          ]
        }
      ]
    },
    {
      "cell_type": "code",
      "source": [
        "pip install cplex"
      ],
      "metadata": {
        "colab": {
          "base_uri": "https://localhost:8080/"
        },
        "id": "jRfQqnVuwRV8",
        "outputId": "a126107f-f7e2-40e5-9771-f040accc8a63"
      },
      "execution_count": null,
      "outputs": [
        {
          "output_type": "stream",
          "name": "stdout",
          "text": [
            "Looking in indexes: https://pypi.org/simple, https://us-python.pkg.dev/colab-wheels/public/simple/\n",
            "Collecting cplex\n",
            "  Downloading cplex-22.1.0.0-cp37-cp37m-manylinux1_x86_64.whl (43.3 MB)\n",
            "\u001b[K     |████████████████████████████████| 43.3 MB 1.2 MB/s \n",
            "\u001b[?25hInstalling collected packages: cplex\n",
            "Successfully installed cplex-22.1.0.0\n"
          ]
        }
      ]
    },
    {
      "cell_type": "code",
      "execution_count": null,
      "metadata": {
        "id": "qlQx6g_oTFEv"
      },
      "outputs": [],
      "source": [
        "import sys\n",
        "import docplex.mp\n",
        "import pandas as pd\n",
        "import numpy as np\n",
        "from collections import namedtuple"
      ]
    },
    {
      "cell_type": "code",
      "source": [
        "eskillsTable = pd.read_csv('/content/drive/My Drive/workforce/Employee Skillset3.csv', sep=\",\", header=0)\n",
        "avilibilityTable = pd.read_csv('/content/drive/My Drive/workforce/Employee Availablity3.csv', sep=\",\", header=0)\n",
        "tasksTable = pd.read_csv('/content/drive/My Drive/workforce/Production Needs3.csv', sep=\",\", header=0)\n",
        "skillsTable = pd.read_csv('/content/drive/My Drive/workforce/skills3.csv', sep=\",\", header=0)"
      ],
      "metadata": {
        "id": "daNrlxpvTIo8"
      },
      "execution_count": null,
      "outputs": []
    },
    {
      "cell_type": "code",
      "source": [
        "def myround(x):\n",
        "  if x==0:\n",
        "    return 0\n",
        "  else:\n",
        "    return int(round(x)+1)"
      ],
      "metadata": {
        "id": "QKKBm45-nLnY"
      },
      "execution_count": null,
      "outputs": []
    },
    {
      "cell_type": "code",
      "source": [
        "# construct employee time table and dictonary:\n",
        "avilibilityTable.insert(1,\"Time\",\"\")\n",
        "for i in range(len(avilibilityTable)):\n",
        "  start_str=avilibilityTable.iloc[i,3]\n",
        "  end_str=avilibilityTable.iloc[i,4]\n",
        "  lunchs_str=avilibilityTable.iloc[i,5]\n",
        "  lunche_str=avilibilityTable.iloc[i,6]\n",
        "  starttime=int(start_str[:len(start_str)-3])*2+myround(int(start_str[-2:])/60)\n",
        "  lunchs=int(lunchs_str[:len(lunchs_str)-3])*2+myround(int(lunchs_str[-2:])/60)\n",
        "  lunche=int(lunche_str[:len(lunche_str)-3])*2+myround(int(lunche_str[-2:])/60)\n",
        "  endtime=int(end_str[:len(end_str)-3])*2+myround(int(end_str[-2:])/60)\n",
        "  #array may be better np.arange(starttime,luchs)\n",
        "  avilibilityTable.iat[i,1]=list(range(48)[starttime:lunchs])+list(range(48)[lunche:endtime])\n",
        "\n",
        "employee_time={}\n",
        "TeTime = namedtuple(\"TeTime\", [\"Employee\", \"timeset\"])\n",
        "for et in avilibilityTable.iloc[:,0:2].itertuples(index=False):\n",
        "  ett=TeTime(*et)\n",
        "  employee_time.setdefault(ett.Employee,ett.timeset)"
      ],
      "metadata": {
        "id": "rU6okkYIa-Gz"
      },
      "execution_count": null,
      "outputs": []
    },
    {
      "cell_type": "code",
      "source": [
        "# build task-time dictionary\n",
        "tasksTable.insert(1,\"Time\",\"\")\n",
        "for i in range(len(tasksTable)):\n",
        "  taskstart_str=tasksTable.iloc[i,4]\n",
        "  taskend_str=tasksTable.iloc[i,6]\n",
        "  taskstart=int(taskstart_str[:len(taskstart_str)-3])*2+myround(int(taskstart_str[-2:])/60)\n",
        "  taskend=int(taskend_str[:len(taskend_str)-3])*2+myround(int(taskend_str[-2:])/60)\n",
        "  tasksTable.iat[i,1]=list(range(48)[taskstart:taskend])\n",
        "\n",
        "task_time={}\n",
        "TtTime = namedtuple(\"TeTime\", [\"Task\", \"timeset\"])\n",
        "for tt in tasksTable.iloc[:,0:2].itertuples(index=False):\n",
        "  ttt=TtTime(*tt)\n",
        "  task_time.setdefault(ttt.Task,ttt.timeset)"
      ],
      "metadata": {
        "id": "AaX8vS9RrKpx"
      },
      "execution_count": null,
      "outputs": []
    },
    {
      "cell_type": "code",
      "source": [
        "skillslist = [skillsTable[\"name\"][i] for i in range(len(skillsTable))]\n",
        "employeelist = [avilibilityTable[\"Employee ID\"][i] for i in range(len(avilibilityTable))]\n",
        "tasklist = [tasksTable[\"Need ID\"][i] for i in range(len(tasksTable))]\n",
        "timelist=list(range(0,48))\n",
        "\n",
        "#build task-skill dictionary\n",
        "TtSkill = namedtuple(\"TtSkill\", [\"Task\", \"skillset\"])\n",
        "task_skill={}\n",
        "for tsk in tasksTable.iloc[:,[0,2]].itertuples(index=False):\n",
        "  tskt=TtSkill(*tsk)\n",
        "  task_skill.setdefault(tskt.Task,tskt.skillset)\n",
        "\n",
        "#build employee skills dictionary\n",
        "TeSkill = namedtuple(\"TeSkill\", [\"Employee\", \"skillset\"])\n",
        "employee_skills = {}\n",
        "for esk in eskillsTable.itertuples(index=False):\n",
        "    eskt= TeSkill(*esk)\n",
        "    employee_skills.setdefault(eskt.Employee, []).append(eskt.skillset)"
      ],
      "metadata": {
        "id": "406uwEUQnKzi"
      },
      "execution_count": null,
      "outputs": []
    },
    {
      "cell_type": "code",
      "source": [
        "from docplex.mp.model import Model\n",
        "mdl = Model(\"employee\")"
      ],
      "metadata": {
        "id": "ab9u952G154A"
      },
      "execution_count": null,
      "outputs": []
    },
    {
      "cell_type": "markdown",
      "source": [
        "Define the decision variables\n",
        "\n",
        "The basic decisions are \"which employee works which task at time t\", which is modeled by binary variables for each (employee, task, time) pair.\n",
        "\n",
        "The output of the model is, for each time, the list of employees that work that time.\n",
        "\n"
      ],
      "metadata": {
        "id": "rMfflXuT3yt-"
      }
    },
    {
      "cell_type": "code",
      "source": [
        "employee_task_vars = mdl.binary_var_matrix(employeelist, tasklist, 'EmployeeAssigned')\n",
        "employee_work_time_vars = mdl.continuous_var_dict(employeelist, lb=0, name='EmployeeWorkTime')\n",
        "work_start_var=mdl.continuous_var_dict(employeelist)\n",
        "work_end_var=mdl.continuous_var_dict(employeelist)"
      ],
      "metadata": {
        "id": "iScMrn5N41H1"
      },
      "execution_count": null,
      "outputs": []
    },
    {
      "cell_type": "code",
      "source": [
        "#employee_work_time=[]\n",
        "for e in employeelist:\n",
        "    mdl.add_constraint(work_end_var[e]==mdl.max(employee_task_vars[e,t]*task_time[t][-1] for t in tasklist))\n",
        "    mdl.add_constraint(work_start_var[e]==mdl.max(employee_task_vars[e,t]/task_time[t][0] for t in tasklist))\n",
        "    mdl.add_constraint(employee_work_time_vars[e]== work_end_var[e]+work_start_var[e])\n",
        "    #employee_work_time.append(mdl.max(employee_task_vars[e,t]*task_time[t][-1] for t in tasklist)+mdl.max(employee_task_vars[e,t]/task_time[t][0] for t in tasklist))\n",
        "#total=sum(employee_work_time)"
      ],
      "metadata": {
        "id": "8-KVGyIznsWC"
      },
      "execution_count": null,
      "outputs": []
    },
    {
      "cell_type": "markdown",
      "source": [
        "constrain1:when employee are unavaibele, he can not assigned any tasks starting that time.\n"
      ],
      "metadata": {
        "id": "bXBYqLc0bSdk"
      }
    },
    {
      "cell_type": "code",
      "source": [
        "for e in employeelist:\n",
        "  for t in tasklist:\n",
        "    if all(elem in employee_time[e] for elem in task_time[t])==False: #if one list is a subset of the other list\n",
        "      mdl.add_constraint(employee_task_vars[e, t] == 0)\n",
        "      "
      ],
      "metadata": {
        "id": "avQiB8lKvo8y"
      },
      "execution_count": null,
      "outputs": []
    },
    {
      "cell_type": "markdown",
      "source": [
        "constrain2: can not assign overlap task; employee perform one task at each t "
      ],
      "metadata": {
        "id": "XTszBLUTzAXP"
      }
    },
    {
      "cell_type": "code",
      "source": [
        "nb_tasks = len(tasksTable)\n",
        "for i1 in range(nb_tasks):\n",
        "    for i2 in range(i1 + 1, nb_tasks):\n",
        "      s1=tasksTable.iloc[i1,0]\n",
        "      s2=tasksTable.iloc[i2,0]\n",
        "      if len(set(tasksTable.iloc[i1,1]) & set(tasksTable.iloc[i2,1]))>0:\n",
        "        for n in employeelist:\n",
        "          mdl.add_constraint(employee_task_vars[n, s1] + employee_task_vars[n, s2] <= 1)"
      ],
      "metadata": {
        "id": "egc9PfvQqy0n"
      },
      "execution_count": null,
      "outputs": []
    },
    {
      "cell_type": "markdown",
      "source": [
        "constrain3: enforce skill requirements for selected task."
      ],
      "metadata": {
        "id": "uE2f8quqR-w_"
      }
    },
    {
      "cell_type": "code",
      "source": [
        "for task in tasklist:\n",
        "  for employee in employeelist:\n",
        "    if len(set(employee_skills[employee])& set(task_skill[task]))==0:#check if two lists have common elements\n",
        "      mdl.add_constraint(employee_task_vars[employee, task] == 0)"
      ],
      "metadata": {
        "id": "ecwwcyfFo460"
      },
      "execution_count": null,
      "outputs": []
    },
    {
      "cell_type": "markdown",
      "source": [
        "constrain4: one task only need one employee"
      ],
      "metadata": {
        "id": "N1GJUFeXNxFo"
      }
    },
    {
      "cell_type": "code",
      "source": [
        "for s in tasklist:\n",
        "  total_assigned = mdl.sum(employee_task_vars[n, s] for n in employeelist)\n",
        "  mdl.add_constraint(total_assigned <= 1)"
      ],
      "metadata": {
        "id": "uO9m3wS7OCH_"
      },
      "execution_count": null,
      "outputs": []
    },
    {
      "cell_type": "markdown",
      "source": [
        "constrain5: at each time, number of employee assgined to each skill A is less than number of employee masters skill A"
      ],
      "metadata": {
        "id": "_KXZGgN10NKI"
      }
    },
    {
      "cell_type": "code",
      "source": [
        "for h in timelist:\n",
        "  for s in skillslist:\n",
        "      nb_employee=len(eskillsTable[eskillsTable[\"Skillset ID\"]== s])\n",
        "      total_assigned=0\n",
        "      for t in tasksTable[tasksTable[\"SkillsetID1\"]== s][\"Need ID\"]:\n",
        "        if h in task_time[t]:\n",
        "          total_assigned+=mdl.sum(employee_task_vars[e,t] for e in employeelist)\n",
        "      mdl.add_constraint(total_assigned <=nb_employee)"
      ],
      "metadata": {
        "id": "J8QMQl1V0Mp1"
      },
      "execution_count": null,
      "outputs": []
    },
    {
      "cell_type": "markdown",
      "source": [
        "Define an variable include starting/ending time of one employee\n",
        "define total work hours"
      ],
      "metadata": {
        "id": "LcTQkpdWbHoQ"
      }
    },
    {
      "cell_type": "code",
      "source": [
        "total_number_of_assignments = mdl.sum(employee_task_vars[e,t] for e in employeelist for t in tasklist)"
      ],
      "metadata": {
        "id": "2leDMmtoY0wa"
      },
      "execution_count": null,
      "outputs": []
    },
    {
      "cell_type": "code",
      "source": [
        "total=mdl.sum(employee_work_time_vars[e] for e in employeelist)"
      ],
      "metadata": {
        "id": "vnHB2s7cET9e"
      },
      "execution_count": null,
      "outputs": []
    },
    {
      "cell_type": "code",
      "source": [
        "#mdl.add_kpi(total,\"total work hours\")\n",
        "mdl.add_kpi(total_number_of_assignments,\"number of assigned task\")\n",
        "mdl.print_information()"
      ],
      "metadata": {
        "colab": {
          "base_uri": "https://localhost:8080/"
        },
        "id": "omygZRlemzvi",
        "outputId": "a165a407-c392-4358-dceb-bf2ed4056441"
      },
      "execution_count": null,
      "outputs": [
        {
          "output_type": "stream",
          "name": "stdout",
          "text": [
            "Model: employee\n",
            " - number of variables: 420\n",
            "   - binary=240, integer=0, continuous=180\n",
            " - number of constraints: 689\n",
            "   - linear=529, indicator=160\n",
            " - parameters: defaults\n",
            " - objective: none\n",
            " - problem type is: MILP\n"
          ]
        }
      ]
    },
    {
      "cell_type": "code",
      "source": [
        "mdl.maximize(10*total_number_of_assignments-0.1*total)\n",
        "#mdl.maximize(total_number_of_assignments)"
      ],
      "metadata": {
        "id": "YrtEgyOebG8L"
      },
      "execution_count": null,
      "outputs": []
    },
    {
      "cell_type": "code",
      "source": [
        "s = mdl.solve()\n",
        "mdl.report()"
      ],
      "metadata": {
        "colab": {
          "base_uri": "https://localhost:8080/"
        },
        "id": "PI-tiQrQbmSR",
        "outputId": "b30ae822-2c92-4802-cae8-94e8b24035b3"
      },
      "execution_count": null,
      "outputs": [
        {
          "output_type": "stream",
          "name": "stdout",
          "text": [
            "* model employee solved with objective = 190.000\n",
            "*  KPI: number of assigned task = 19.000\n"
          ]
        }
      ]
    },
    {
      "cell_type": "code",
      "source": [
        "work_time=[]\n",
        "for e in employeelist:\n",
        "  start_time= 47\n",
        "  end_time=0\n",
        "  for t in tasklist:\n",
        "    if employee_task_vars[e,t].solution_value >0:\n",
        "      start_time = min(task_time[t][0],start_time)\n",
        "      end_time = max(task_time[t][-1],end_time)\n",
        "  work_time.append(end_time-start_time+1)\n",
        "total_work_hours=sum(work_time)\n",
        "print(\"The total work hours is\",total_work_hours,\"hours\")"
      ],
      "metadata": {
        "id": "ywlBrKZGdgF1",
        "colab": {
          "base_uri": "https://localhost:8080/"
        },
        "outputId": "2c87ec64-d365-41c1-d946-acb84e44468b"
      },
      "execution_count": null,
      "outputs": [
        {
          "output_type": "stream",
          "name": "stdout",
          "text": [
            "The total work hours is 54 hours\n"
          ]
        }
      ]
    },
    {
      "cell_type": "code",
      "source": [
        "mdl.print_solution()"
      ],
      "metadata": {
        "colab": {
          "base_uri": "https://localhost:8080/"
        },
        "id": "uKOxehBKV_Tn",
        "outputId": "9f5711cd-61de-4b2a-ddaa-6e8c80af599e"
      },
      "execution_count": null,
      "outputs": [
        {
          "output_type": "stream",
          "name": "stdout",
          "text": [
            "objective: 190\n",
            "  EmployeeAssigned_10001_2001=1\n",
            "  EmployeeAssigned_10001_2003=1\n",
            "  EmployeeAssigned_10001_2008=1\n",
            "  EmployeeAssigned_10001_2011=1\n",
            "  EmployeeAssigned_10001_2014=1\n",
            "  EmployeeAssigned_10001_2018=1\n",
            "  EmployeeAssigned_10002_2002=1\n",
            "  EmployeeAssigned_10002_2005=1\n",
            "  EmployeeAssigned_10002_2012=1\n",
            "  EmployeeAssigned_10002_2016=1\n",
            "  EmployeeAssigned_10003_2010=1\n",
            "  EmployeeAssigned_10003_2013=1\n",
            "  EmployeeAssigned_10003_2017=1\n",
            "  EmployeeAssigned_10003_2020=1\n",
            "  EmployeeAssigned_10004_2006=1\n",
            "  EmployeeAssigned_10004_2007=1\n",
            "  EmployeeAssigned_10004_2009=1\n",
            "  EmployeeAssigned_10004_2015=1\n",
            "  EmployeeAssigned_10004_2019=1\n",
            "  EmployeeWorkTime_10001=31.062\n",
            "  EmployeeWorkTime_10002=29.062\n",
            "  EmployeeWorkTime_10003=31.050\n",
            "  EmployeeWorkTime_10004=31.050\n",
            "  x85=0.062\n",
            "  x86=0.062\n",
            "  x87=0.050\n",
            "  x88=0.050\n",
            "  x89=31.000\n",
            "  x90=29.000\n",
            "  x91=31.000\n",
            "  x92=31.000\n"
          ]
        }
      ]
    },
    {
      "cell_type": "code",
      "source": [
        "import matplotlib.pyplot as plt\n",
        "import matplotlib.patches as mpatches\n",
        "import matplotlib.gridspec as gridspec\n",
        "%matplotlib inline"
      ],
      "metadata": {
        "id": "ggUIcggJdJU-"
      },
      "execution_count": null,
      "outputs": []
    },
    {
      "cell_type": "code",
      "source": [
        "tmin=int(min(task_time.values())[0])\n",
        "tmax=int(max(task_time.values())[-1]+1)\n",
        "def createLabels(ax, title, xlabel, ylabel):\n",
        "  plt.xticks(np.arange(tmin,tmax),[\"{}\".format(str(s/2)) for s in timelist[tmin:tmax]])\n",
        "  plt.xlim([tmin,tmax])\n",
        "  ax.set_xlabel(xlabel)\n",
        "  ax.set_ylabel(ylabel)\n",
        "  ax.grid()\n",
        "  ax.set_title(title)\n",
        "\n",
        "colorBySkills = {}\n",
        "for d, c in zip(skillslist, ['r', 'm', 'b', 'g', 'y', 'c']):\n",
        "    colorBySkills[d] = c\n",
        "\n",
        "colors=['k','r', 'm', 'b', 'g', 'y', 'c']\n",
        "labels=['avilibility','A','B','C','D','E','F']\n",
        "red_patch = [mpatches.Patch(color=colors[i], label=labels[i])for i in range(len(labels))]\n"
      ],
      "metadata": {
        "id": "uqmJpUB5yqU7"
      },
      "execution_count": null,
      "outputs": []
    },
    {
      "cell_type": "code",
      "source": [
        "def unassignTask(assignlist):\n",
        "  for e in employeelist:\n",
        "    for t in tasklist:\n",
        "      if employee_task_vars[e,t].solution_value > 0:\n",
        "        assignlist.append(t)\n",
        "        unassignlist=list(set(tasklist) - set(assignlist))\n",
        "  for i in unassignlist:\n",
        "    print(i,\": from\",task_time[i][0]/2,\"to\",task_time[i][-1]/2+0.5,\",required skillset:\",task_skill[i])"
      ],
      "metadata": {
        "id": "y27X2ATu6G0j"
      },
      "execution_count": null,
      "outputs": []
    },
    {
      "cell_type": "code",
      "source": [
        "def displayTasksAssignmentsGantt(ax):\n",
        "    ylabels, tickloc = [], []\n",
        "    for i in range(len(employeelist)):\n",
        "      n=employeelist[i]\n",
        "      lunchs_str=avilibilityTable[\"Lunch Start\"][i]\n",
        "      lunchs=int(lunchs_str[:len(lunchs_str)-3])*2+myround(int(lunchs_str[-2:])/60)\n",
        "      ax.bar(employee_time[n][0],0.3,width=lunchs-employee_time[n][0],bottom=i+0.5,color='k',align='edge')\n",
        "      ax.bar(lunchs+2,0.3,employee_time[n][-1]-lunchs-1,bottom=i+0.5,color='k',align='edge')\n",
        "      for s in tasklist:\n",
        "        if employee_task_vars[n,s].solution_value > 0:\n",
        "          ax.bar(task_time[s][0], 0.4,\n",
        "                 width=task_time[s][-1] - task_time[s][0]+0.95, bottom=i + 0.1,\n",
        "                 color=colorBySkills[task_skill[s]],align='edge')\n",
        "                  \n",
        "      ylabels.append(\"{}:{}\".format(str(n),employee_skills[n])) # (3)number of total hours works\n",
        "      tickloc.append(i + 0.5)\n",
        "\n",
        "    plt.ylim(0, len(employeelist))\n",
        "    plt.yticks(tickloc, ylabels)\n",
        "    plt.legend(handles=[red_patch][0]) #[0] beacuse error:'list' object has no attribute 'get_label'\n",
        "\n",
        "    # Create labels on x/y axis\n",
        "    createLabels(ax, 'Taks Assignments', 'Hours Of The Day', 'Employee ID & Skill')\n"
      ],
      "metadata": {
        "id": "bd9xkM-v6_uF"
      },
      "execution_count": null,
      "outputs": []
    },
    {
      "cell_type": "code",
      "source": [
        "fig = plt.figure(figsize=[14,12])\n",
        "gs = gridspec.GridSpec(2, 1, height_ratios=[3,1])\n",
        "\n",
        "ax = plt.subplot(gs[0])\n",
        "displayTasksAssignmentsGantt(ax)\n",
        "unassignTask([])"
      ],
      "metadata": {
        "colab": {
          "base_uri": "https://localhost:8080/",
          "height": 540
        },
        "id": "YzCkK0l10036",
        "outputId": "c112031a-18c4-4e4f-e3f7-bdc5581e1877"
      },
      "execution_count": null,
      "outputs": [
        {
          "output_type": "stream",
          "name": "stdout",
          "text": [
            "2004 : from 9.0 to 9.5 ,required skillset: B\n"
          ]
        },
        {
          "output_type": "display_data",
          "data": {
            "text/plain": [
              "<Figure size 1008x864 with 1 Axes>"
            ],
            "image/png": "[encoded data removed]"
          },
          "metadata": {
            "needs_background": "light"
          }
        }
      ]
    }
  ]
}
